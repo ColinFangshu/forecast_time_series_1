{
 "cells": [
  {
   "cell_type": "markdown",
   "metadata": {},
   "source": [
    "## Time series analysis forecasting for tire product"
   ]
  },
  {
   "cell_type": "markdown",
   "metadata": {},
   "source": [
    "produced by Colin Shu\n",
    "--9/8/2019"
   ]
  },
  {
   "cell_type": "markdown",
   "metadata": {},
   "source": [
    "&nbsp;&nbsp;GoodTires.com is an online retailer, selling replacement tires for autos and light trucks. The company is interested in constructing a short-term sales forecasting method for this product. The forecast will be used to make one-week-ahead forecasts so that they can make ordering decisions from the tire manufacturer for the following week. <br>\n",
    "&nbsp;&nbsp;For a basic time series forecasting, I tried two different models – a 3-week weighted moving average and single exponential smoothing – to forecast this product’s sales. The parameters are estimated for each type of model (to minimize MSE), using the data from the first three quarters of the year (39 observations), the other data are used for model validation (13 observations). The CFE, MAD and MAPE measures are computed on the remaining 13 observations (the last quarter of the year) and each model is evaluated."
   ]
  },
  {
   "cell_type": "code",
   "execution_count": 63,
   "metadata": {},
   "outputs": [],
   "source": [
    "# import basic libraries\n",
    "import pandas as pd\n",
    "import numpy as np\n",
    "from random import random\n",
    "\n",
    "# import libraries for visualization\n",
    "import matplotlib as plt\n",
    "import seaborn as sns"
   ]
  },
  {
   "cell_type": "markdown",
   "metadata": {},
   "source": [
    "Import the data set and clean the data"
   ]
  },
  {
   "cell_type": "code",
   "execution_count": 30,
   "metadata": {},
   "outputs": [
    {
     "data": {
      "text/html": [
       "<div>\n",
       "<style scoped>\n",
       "    .dataframe tbody tr th:only-of-type {\n",
       "        vertical-align: middle;\n",
       "    }\n",
       "\n",
       "    .dataframe tbody tr th {\n",
       "        vertical-align: top;\n",
       "    }\n",
       "\n",
       "    .dataframe thead th {\n",
       "        text-align: right;\n",
       "    }\n",
       "</style>\n",
       "<table border=\"1\" class=\"dataframe\">\n",
       "  <thead>\n",
       "    <tr style=\"text-align: right;\">\n",
       "      <th></th>\n",
       "      <th>Weekly Sales</th>\n",
       "      <th>Unnamed: 1</th>\n",
       "    </tr>\n",
       "  </thead>\n",
       "  <tbody>\n",
       "    <tr>\n",
       "      <th>0</th>\n",
       "      <td>Week</td>\n",
       "      <td>Units Sold</td>\n",
       "    </tr>\n",
       "    <tr>\n",
       "      <th>1</th>\n",
       "      <td>1</td>\n",
       "      <td>287</td>\n",
       "    </tr>\n",
       "    <tr>\n",
       "      <th>2</th>\n",
       "      <td>2</td>\n",
       "      <td>290</td>\n",
       "    </tr>\n",
       "    <tr>\n",
       "      <th>3</th>\n",
       "      <td>3</td>\n",
       "      <td>268</td>\n",
       "    </tr>\n",
       "    <tr>\n",
       "      <th>4</th>\n",
       "      <td>4</td>\n",
       "      <td>270</td>\n",
       "    </tr>\n",
       "  </tbody>\n",
       "</table>\n",
       "</div>"
      ],
      "text/plain": [
       "  Weekly Sales  Unnamed: 1\n",
       "0         Week  Units Sold\n",
       "1            1         287\n",
       "2            2         290\n",
       "3            3         268\n",
       "4            4         270"
      ]
     },
     "execution_count": 30,
     "metadata": {},
     "output_type": "execute_result"
    }
   ],
   "source": [
    "# import the data\n",
    "data = pd.read_excel(\"CEE 5930 Assignment 1 Data -- Fall 2019.xlsx\", sheetname='GoodTires Data')\n",
    "data.head()"
   ]
  },
  {
   "cell_type": "code",
   "execution_count": 31,
   "metadata": {},
   "outputs": [],
   "source": [
    "data.columns = list(data.iloc[0].values)\n",
    "df = data.drop(data.index[0])"
   ]
  },
  {
   "cell_type": "code",
   "execution_count": 32,
   "metadata": {},
   "outputs": [
    {
     "name": "stdout",
     "output_type": "stream",
     "text": [
      "<class 'pandas.core.frame.DataFrame'>\n",
      "Int64Index: 52 entries, 1 to 52\n",
      "Data columns (total 2 columns):\n",
      "Week          52 non-null object\n",
      "Units Sold    52 non-null object\n",
      "dtypes: object(2)\n",
      "memory usage: 1.2+ KB\n"
     ]
    }
   ],
   "source": [
    "# make sure the rows are 52 in total\n",
    "df.info()"
   ]
  },
  {
   "cell_type": "code",
   "execution_count": 33,
   "metadata": {},
   "outputs": [],
   "source": [
    "df.index = df['Week']"
   ]
  },
  {
   "cell_type": "code",
   "execution_count": 35,
   "metadata": {},
   "outputs": [],
   "source": [
    "df = df['Units Sold']"
   ]
  },
  {
   "cell_type": "code",
   "execution_count": 37,
   "metadata": {
    "scrolled": true
   },
   "outputs": [
    {
     "data": {
      "text/plain": [
       "Week\n",
       "1    287\n",
       "2    290\n",
       "3    268\n",
       "4    270\n",
       "5    262\n",
       "Name: Units Sold, dtype: object"
      ]
     },
     "execution_count": 37,
     "metadata": {},
     "output_type": "execute_result"
    }
   ],
   "source": [
    "df.head()"
   ]
  },
  {
   "cell_type": "markdown",
   "metadata": {},
   "source": [
    "A quick visualization of the time series data"
   ]
  },
  {
   "cell_type": "code",
   "execution_count": 56,
   "metadata": {},
   "outputs": [
    {
     "data": {
      "text/plain": [
       "<matplotlib.axes._subplots.AxesSubplot at 0x1a1d342a58>"
      ]
     },
     "execution_count": 56,
     "metadata": {},
     "output_type": "execute_result"
    },
    {
     "data": {
      "image/png": "[encoded data removed]",
      "text/plain": [
       "<Figure size 432x288 with 1 Axes>"
      ]
     },
     "metadata": {
      "needs_background": "light"
     },
     "output_type": "display_data"
    }
   ],
   "source": [
    "# fig, ax = plt.subplots(figsize=(8,6))\n",
    "sns.lineplot(x=list(df.index), y=list(df.values))"
   ]
  },
  {
   "cell_type": "markdown",
   "metadata": {},
   "source": [
    "&nbsp;&nbsp;To forecast the next week product sales, the first 3/4 data is used, for two kinds of models, to find the appropriate the parameters which minimize the MSE value. Then the last 1/4 data is used to evaluate the two models, comparing the different measures (CFE, MAD and MAPE)."
   ]
  },
  {
   "cell_type": "markdown",
   "metadata": {},
   "source": [
    "###  A 3-week weighted moving average model"
   ]
  },
  {
   "cell_type": "markdown",
   "metadata": {},
   "source": [
    "Before calculate the moving average forecasting, the parameters of the three parameters need to be generated"
   ]
  },
  {
   "cell_type": "code",
   "execution_count": 78,
   "metadata": {},
   "outputs": [],
   "source": [
    "# generate three weighted parameters with the fixed sum of 1\n",
    "def generate_groups_of_params(groups=10):\n",
    "    groups_of_params = []\n",
    "    for i in range(groups):\n",
    "        w1 = random()\n",
    "        w2 = (1-w1)*random()\n",
    "        w3 = 1-w1-w2\n",
    "        groups_of_params.append((w1,w2,w3))\n",
    "    return groups_of_params"
   ]
  },
  {
   "cell_type": "code",
   "execution_count": 85,
   "metadata": {},
   "outputs": [],
   "source": [
    "params = list(set(generate_groups_of_params(groups=1000)))"
   ]
  },
  {
   "cell_type": "code",
   "execution_count": 130,
   "metadata": {},
   "outputs": [
    {
     "data": {
      "text/plain": [
       "(0.8389296523761874, 0.07631492895888582, 0.08475541866492674)"
      ]
     },
     "execution_count": 130,
     "metadata": {},
     "output_type": "execute_result"
    }
   ],
   "source": [
    "params[0]"
   ]
  },
  {
   "cell_type": "code",
   "execution_count": 112,
   "metadata": {},
   "outputs": [],
   "source": [
    "params.append((0.1, 0.2, 0.7))\n",
    "# check the final parameter set size\n",
    "len(params)"
   ]
  },
  {
   "cell_type": "code",
   "execution_count": 125,
   "metadata": {},
   "outputs": [],
   "source": [
    "# calculate each moving average forecasting using each parameter group (among the 1001)\n",
    "def moving_average_forecasting(data,\n",
    "                               useful_history=3, \n",
    "                               parameters=params,\n",
    "                               observation_for_model_training=39\n",
    "                               ):\n",
    "    forecast_results = []\n",
    "    for params in parameters:\n",
    "        forecast_result = []\n",
    "        for idx,value in enumerate(data):\n",
    "            if idx <= useful_history-1:\n",
    "                forecast_result.append(value)\n",
    "            else:\n",
    "                wt_3_week_ago = data[idx-useful_history]\n",
    "                wt_2_week_ago = data[idx-useful_history+1]\n",
    "                wt_1_week_ago = data[idx-useful_history+2]\n",
    "                forecast = wt_3_week_ago*params[0] + wt_2_week_ago*params[1] + wt_1_week_ago*params[2]\n",
    "                forecast_result.append(forecast)\n",
    "        forecast_result = forecast_result[0:observation_for_model_training-1]\n",
    "        forecast_results.append(forecast_result)\n",
    "    return forecast_results"
   ]
  },
  {
   "cell_type": "code",
   "execution_count": 126,
   "metadata": {},
   "outputs": [],
   "source": [
    "forecast_results = moving_average_forecasting(list(df.values), \n",
    "                                              useful_history=2, \n",
    "                                              parameters=params,\n",
    "                                              observation_for_model_training=39)"
   ]
  },
  {
   "cell_type": "code",
   "execution_count": 127,
   "metadata": {},
   "outputs": [
    {
     "data": {
      "text/plain": [
       "1001"
      ]
     },
     "execution_count": 127,
     "metadata": {},
     "output_type": "execute_result"
    }
   ],
   "source": [
    "len(forecast_results)"
   ]
  },
  {
   "cell_type": "code",
   "execution_count": 128,
   "metadata": {},
   "outputs": [
    {
     "data": {
      "text/plain": [
       "[287,\n",
       " 290,\n",
       " 285.61859183224306,\n",
       " 286.62596318960595,\n",
       " 267.64409734592823,\n",
       " 265.99926382173186,\n",
       " 263.11764985724255,\n",
       " 238.86801065222477,\n",
       " 300.15084211483605,\n",
       " 267.890624155426,\n",
       " 286.37925233554114,\n",
       " 246.41638816843215,\n",
       " 268.38695664697906,\n",
       " 227.39884128087013,\n",
       " 234.1724028478138,\n",
       " 275.1450744559878,\n",
       " 292.50654315681123,\n",
       " 264.9317750391426,\n",
       " 254.67892843709546,\n",
       " 273.66009323756424,\n",
       " 258.0353832248684,\n",
       " 275.01684584435293,\n",
       " 281.08153045410603,\n",
       " 226.2896319133336,\n",
       " 256.7112883095016,\n",
       " 242.90160613401147,\n",
       " 298.0596355616434,\n",
       " 294.3573047404899,\n",
       " 323.9289005961882,\n",
       " 268.2050605392357,\n",
       " 297.1095423216115,\n",
       " 287.0858421185376,\n",
       " 299.27148018948185,\n",
       " 307.68395991767557,\n",
       " 269.92405316017516,\n",
       " 273.6534404909399,\n",
       " 288.2627067457008,\n",
       " 282.97429287421824]"
      ]
     },
     "execution_count": 128,
     "metadata": {},
     "output_type": "execute_result"
    }
   ],
   "source": [
    "forecast_results[0]"
   ]
  },
  {
   "cell_type": "markdown",
   "metadata": {},
   "source": [
    "After using all the 1001 parameters, I calculated the prediction for the 36 (39-3) sales, as shown above. Then, I can calculate the MSE (mean squared error), which is considered as the objective function to be minimize to find out the best parameters for this 3-week moving average model."
   ]
  },
  {
   "cell_type": "code",
   "execution_count": 146,
   "metadata": {},
   "outputs": [],
   "source": [
    "def best_params_set_which_minimizes_MSE(actual_value,\n",
    "                                        forecast_results):\n",
    "    # initiate the MSE and best parameters\n",
    "    MSE = sum((np.array(forecast_results[0]) - np.array(list(df.values)[0:38]))**2)\n",
    "    best_params = (0.1, 0.2, 0.7)\n",
    "    for param, forecast_result in zip(params,forecast_results):\n",
    "        new_MSE = sum((np.array(forecast_result) - np.array(list(df.values)[0:38]))**2)\n",
    "        if new_MSE < MSE:\n",
    "            MSE = new_MSE\n",
    "            best_params = param\n",
    "    return (best_params, MSE)"
   ]
  },
  {
   "cell_type": "code",
   "execution_count": 147,
   "metadata": {},
   "outputs": [],
   "source": [
    "best_params = best_params_set_which_minimizes_MSE(list(df.values), forecast_results)"
   ]
  },
  {
   "cell_type": "code",
   "execution_count": 148,
   "metadata": {},
   "outputs": [
    {
     "data": {
      "text/plain": [
       "((0.005040220405816198, 0.08334368216063984, 0.911616097433544),\n",
       " 328.79285174849184)"
      ]
     },
     "execution_count": 148,
     "metadata": {},
     "output_type": "execute_result"
    }
   ],
   "source": [
    "best_params"
   ]
  },
  {
   "cell_type": "code",
   "execution_count": null,
   "metadata": {},
   "outputs": [],
   "source": []
  }
 ],
 "metadata": {
  "kernelspec": {
   "display_name": "Python 3",
   "language": "python",
   "name": "python3"
  },
  "language_info": {
   "codemirror_mode": {
    "name": "ipython",
    "version": 3
   },
   "file_extension": ".py",
   "mimetype": "text/x-python",
   "name": "python",
   "nbconvert_exporter": "python",
   "pygments_lexer": "ipython3",
   "version": "3.7.3"
  }
 },
 "nbformat": 4,
 "nbformat_minor": 2
}
