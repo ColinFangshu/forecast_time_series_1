{
 "cells": [
  {
   "cell_type": "markdown",
   "metadata": {},
   "source": [
    "# Time series analysis forecasting for tire product"
   ]
  },
  {
   "cell_type": "markdown",
   "metadata": {},
   "source": [
    "produced by Colin Shu\n",
    "--9/8/2019"
   ]
  },
  {
   "cell_type": "markdown",
   "metadata": {},
   "source": [
    "&nbsp;&nbsp;GoodTires.com is an online retailer, selling replacement tires for autos and light trucks. The company is interested in constructing a short-term sales forecasting method for this product. The forecast will be used to make one-week-ahead forecasts so that they can make ordering decisions from the tire manufacturer for the following week. <br>\n",
    "&nbsp;&nbsp;For a basic time series forecasting, I tried two different models – a 3-week weighted moving average and single exponential smoothing – to forecast this product’s sales. The parameters are estimated for each type of model (to minimize MSE), using the data from the first three quarters of the year (39 observations), the rest of the data are used for model validation (13 observations). The CFE, MAD and MAPE measures are computed on the remaining 13 observations (the last quarter of the year) and each model is evaluated."
   ]
  },
  {
   "cell_type": "markdown",
   "metadata": {},
   "source": [
    "## Import the data, clean the data and preform exploratory data analysis"
   ]
  },
  {
   "cell_type": "code",
   "execution_count": 1,
   "metadata": {},
   "outputs": [],
   "source": [
    "# import basic libraries\n",
    "import pandas as pd\n",
    "import numpy as np\n",
    "\n",
    "#import libraries for math calculation\n",
    "from random import random\n",
    "import statistics\n",
    "\n",
    "# import libraries for visualization\n",
    "import matplotlib.pyplot as plt\n",
    "import seaborn as sns"
   ]
  },
  {
   "cell_type": "markdown",
   "metadata": {},
   "source": [
    "Import the data set and clean the data"
   ]
  },
  {
   "cell_type": "code",
   "execution_count": 2,
   "metadata": {},
   "outputs": [
    {
     "name": "stderr",
     "output_type": "stream",
     "text": [
      "/Users/shufang/anaconda3/lib/python3.7/site-packages/pandas/util/_decorators.py:188: FutureWarning: The `sheetname` keyword is deprecated, use `sheet_name` instead\n",
      "  return func(*args, **kwargs)\n"
     ]
    },
    {
     "data": {
      "text/html": [
       "<div>\n",
       "<style scoped>\n",
       "    .dataframe tbody tr th:only-of-type {\n",
       "        vertical-align: middle;\n",
       "    }\n",
       "\n",
       "    .dataframe tbody tr th {\n",
       "        vertical-align: top;\n",
       "    }\n",
       "\n",
       "    .dataframe thead th {\n",
       "        text-align: right;\n",
       "    }\n",
       "</style>\n",
       "<table border=\"1\" class=\"dataframe\">\n",
       "  <thead>\n",
       "    <tr style=\"text-align: right;\">\n",
       "      <th></th>\n",
       "      <th>Weekly Sales</th>\n",
       "      <th>Unnamed: 1</th>\n",
       "    </tr>\n",
       "  </thead>\n",
       "  <tbody>\n",
       "    <tr>\n",
       "      <th>0</th>\n",
       "      <td>Week</td>\n",
       "      <td>Units Sold</td>\n",
       "    </tr>\n",
       "    <tr>\n",
       "      <th>1</th>\n",
       "      <td>1</td>\n",
       "      <td>287</td>\n",
       "    </tr>\n",
       "    <tr>\n",
       "      <th>2</th>\n",
       "      <td>2</td>\n",
       "      <td>290</td>\n",
       "    </tr>\n",
       "    <tr>\n",
       "      <th>3</th>\n",
       "      <td>3</td>\n",
       "      <td>268</td>\n",
       "    </tr>\n",
       "    <tr>\n",
       "      <th>4</th>\n",
       "      <td>4</td>\n",
       "      <td>270</td>\n",
       "    </tr>\n",
       "  </tbody>\n",
       "</table>\n",
       "</div>"
      ],
      "text/plain": [
       "  Weekly Sales  Unnamed: 1\n",
       "0         Week  Units Sold\n",
       "1            1         287\n",
       "2            2         290\n",
       "3            3         268\n",
       "4            4         270"
      ]
     },
     "execution_count": 2,
     "metadata": {},
     "output_type": "execute_result"
    }
   ],
   "source": [
    "# import the data\n",
    "data = pd.read_excel(\"CEE 5930 Assignment 1 Data -- Fall 2019.xlsx\", sheetname='GoodTires Data')\n",
    "data.head()"
   ]
  },
  {
   "cell_type": "code",
   "execution_count": 3,
   "metadata": {},
   "outputs": [],
   "source": [
    "data.columns = list(data.iloc[0].values)\n",
    "df = data.drop(data.index[0])"
   ]
  },
  {
   "cell_type": "code",
   "execution_count": 4,
   "metadata": {},
   "outputs": [
    {
     "name": "stdout",
     "output_type": "stream",
     "text": [
      "<class 'pandas.core.frame.DataFrame'>\n",
      "Int64Index: 52 entries, 1 to 52\n",
      "Data columns (total 2 columns):\n",
      "Week          52 non-null object\n",
      "Units Sold    52 non-null object\n",
      "dtypes: object(2)\n",
      "memory usage: 1.2+ KB\n"
     ]
    }
   ],
   "source": [
    "# make sure the rows are 52 in total\n",
    "df.info()"
   ]
  },
  {
   "cell_type": "code",
   "execution_count": 5,
   "metadata": {},
   "outputs": [],
   "source": [
    "df.index = df['Week']"
   ]
  },
  {
   "cell_type": "code",
   "execution_count": 6,
   "metadata": {},
   "outputs": [],
   "source": [
    "df = df['Units Sold']"
   ]
  },
  {
   "cell_type": "code",
   "execution_count": 7,
   "metadata": {
    "scrolled": true
   },
   "outputs": [
    {
     "data": {
      "text/plain": [
       "Week\n",
       "1    287\n",
       "2    290\n",
       "3    268\n",
       "4    270\n",
       "5    262\n",
       "Name: Units Sold, dtype: object"
      ]
     },
     "execution_count": 7,
     "metadata": {},
     "output_type": "execute_result"
    }
   ],
   "source": [
    "df.head()"
   ]
  },
  {
   "cell_type": "markdown",
   "metadata": {},
   "source": [
    "A quick visualization of the time series data"
   ]
  },
  {
   "cell_type": "code",
   "execution_count": 8,
   "metadata": {},
   "outputs": [
    {
     "data": {
      "text/plain": [
       "Text(0.5, 1.0, 'the actual unit sold each week')"
      ]
     },
     "execution_count": 8,
     "metadata": {},
     "output_type": "execute_result"
    },
    {
     "data": {
      "image/png": "[encoded data removed]",
      "text/plain": [
       "<Figure size 504x360 with 1 Axes>"
      ]
     },
     "metadata": {
      "needs_background": "light"
     },
     "output_type": "display_data"
    }
   ],
   "source": [
    "fig, ax = plt.subplots(figsize=(7,5))\n",
    "ax = sns.lineplot(x=list(df.index), y=list(df.values))\n",
    "plt.xlabel('week')\n",
    "plt.ylabel('Unit sold')\n",
    "plt.title('the actual unit sold each week')"
   ]
  },
  {
   "cell_type": "markdown",
   "metadata": {},
   "source": [
    "&nbsp;&nbsp;To forecast the next week product sales, the first 3/4 data is used, for two kinds of models, to find the appropriate the parameters which minimize the MSE value. Then the last 1/4 data is used to evaluate the two models, comparing the different measures (CFE, MAD and MAPE)."
   ]
  },
  {
   "cell_type": "markdown",
   "metadata": {},
   "source": [
    "## Using the data from the first three quarters of the year to train the two models and find best parameters for each model"
   ]
  },
  {
   "cell_type": "markdown",
   "metadata": {},
   "source": [
    "###  A 3-week weighted moving average model"
   ]
  },
  {
   "cell_type": "markdown",
   "metadata": {},
   "source": [
    "Before calculate the moving average forecasting, the parameters of the three parameters need to be generated"
   ]
  },
  {
   "cell_type": "code",
   "execution_count": 9,
   "metadata": {},
   "outputs": [],
   "source": [
    "# generate three weighted parameters with the fixed sum of 1\n",
    "def generate_groups_of_params(groups=10):\n",
    "    groups_of_params = []\n",
    "    for i in range(groups):\n",
    "        w1 = random()\n",
    "        w2 = (1-w1)*random()\n",
    "        w3 = 1-w1-w2\n",
    "        groups_of_params.append((w1,w2,w3))\n",
    "    return groups_of_params"
   ]
  },
  {
   "cell_type": "code",
   "execution_count": 10,
   "metadata": {},
   "outputs": [],
   "source": [
    "params = list(set(generate_groups_of_params(groups=1000000)))"
   ]
  },
  {
   "cell_type": "code",
   "execution_count": 11,
   "metadata": {},
   "outputs": [
    {
     "data": {
      "text/plain": [
       "(0.6745682662455017, 0.018864445627737658, 0.30656728812676065)"
      ]
     },
     "execution_count": 11,
     "metadata": {},
     "output_type": "execute_result"
    }
   ],
   "source": [
    "params[0]"
   ]
  },
  {
   "cell_type": "code",
   "execution_count": 12,
   "metadata": {},
   "outputs": [
    {
     "data": {
      "text/plain": [
       "1000001"
      ]
     },
     "execution_count": 12,
     "metadata": {},
     "output_type": "execute_result"
    }
   ],
   "source": [
    "params.append((0.1, 0.2, 0.7))\n",
    "# check the final parameter set size\n",
    "len(params)"
   ]
  },
  {
   "cell_type": "code",
   "execution_count": 13,
   "metadata": {},
   "outputs": [],
   "source": [
    "# calculate each moving average forecasting using each parameter group (among the 1001)\n",
    "def moving_average_forecasting(data,\n",
    "                               useful_history=3, \n",
    "                               parameters=params,\n",
    "                               observation_for_model_training=39\n",
    "                               ):\n",
    "    forecast_results = []\n",
    "    for params in parameters:\n",
    "        forecast_result = []\n",
    "        for idx,value in enumerate(data):\n",
    "            if idx <= useful_history-1:\n",
    "                forecast_result.append(value)\n",
    "            else:\n",
    "                wt_3_week_ago = data[idx-useful_history]\n",
    "                wt_2_week_ago = data[idx-useful_history+1]\n",
    "                wt_1_week_ago = data[idx-useful_history+2]\n",
    "                forecast = wt_3_week_ago*params[0] + wt_2_week_ago*params[1] + wt_1_week_ago*params[2]\n",
    "                forecast_result.append(forecast)\n",
    "        forecast_result = forecast_result[0:observation_for_model_training-1]\n",
    "        forecast_results.append(forecast_result)\n",
    "    return forecast_results"
   ]
  },
  {
   "cell_type": "code",
   "execution_count": 14,
   "metadata": {},
   "outputs": [],
   "source": [
    "forecast_results_MA = moving_average_forecasting(list(df.values), \n",
    "                                                 useful_history=3, \n",
    "                                                 parameters=params,\n",
    "                                                 observation_for_model_training=39)"
   ]
  },
  {
   "cell_type": "code",
   "execution_count": 15,
   "metadata": {},
   "outputs": [
    {
     "data": {
      "text/plain": [
       "1000001"
      ]
     },
     "execution_count": 15,
     "metadata": {},
     "output_type": "execute_result"
    }
   ],
   "source": [
    "len(forecast_results_MA)"
   ]
  },
  {
   "cell_type": "code",
   "execution_count": 16,
   "metadata": {},
   "outputs": [
    {
     "data": {
      "text/plain": [
       "[287,\n",
       " 290,\n",
       " 268,\n",
       " 281.2318148624748,\n",
       " 283.45363643365454,\n",
       " 266.19832516249494,\n",
       " 257.58639290990766,\n",
       " 274.2721638412363,\n",
       " 243.0455259252695,\n",
       " 299.33550521175357,\n",
       " 261.6894019106492,\n",
       " 285.85915791297714,\n",
       " 239.5337501875444,\n",
       " 259.7332536653838,\n",
       " 238.65379614009254,\n",
       " 247.93576889089394,\n",
       " 271.7125055475526,\n",
       " 284.25651359482595,\n",
       " 267.83929953373473,\n",
       " 253.41501780381023,\n",
       " 275.8112513486968,\n",
       " 264.52689795888455,\n",
       " 262.0208763211788,\n",
       " 277.3316587922595,\n",
       " 226.66933514135522,\n",
       " 266.8476737212602,\n",
       " 252.87020020465212,\n",
       " 306.3241252150624,\n",
       " 285.51983029005123,\n",
       " 320.293929901004,\n",
       " 270.46616962575155,\n",
       " 298.6367351799642,\n",
       " 293.14971324135564,\n",
       " 291.1473817306052,\n",
       " 300.6244103779188,\n",
       " 274.18793909941843,\n",
       " 276.2257721856997,\n",
       " 289.2074047068793]"
      ]
     },
     "execution_count": 16,
     "metadata": {},
     "output_type": "execute_result"
    }
   ],
   "source": [
    "forecast_results_MA[0]"
   ]
  },
  {
   "cell_type": "markdown",
   "metadata": {},
   "source": [
    "After using all the 1000001 parameters, I calculated the prediction for the 36 (39-3) sales, as shown above. Then, I can calculate the MSE (mean squared error), which is considered as the objective function to be minimize to find out the best parameters for this 3-week moving average model."
   ]
  },
  {
   "cell_type": "code",
   "execution_count": 17,
   "metadata": {},
   "outputs": [],
   "source": [
    "def best_params_set_which_minimizes_MSE_MA(actual_value,\n",
    "                                           params,\n",
    "                                           forecast_results):\n",
    "    # initiate the MSE and best parameters\n",
    "    MSE = sum((np.array(forecast_results[0][3:]) - np.array(list(df.values)[3:38]))**2)/len(actual_value)\n",
    "    best_params = (0.1, 0.2, 0.7)\n",
    "    for param, forecast_result in zip(params,forecast_results):\n",
    "        new_MSE = sum((np.array(forecast_result[3:]) - np.array(list(df.values)[3:38]))**2)/len(actual_value)\n",
    "        if new_MSE < MSE:\n",
    "            MSE = new_MSE\n",
    "            best_params = param\n",
    "    return (best_params, MSE)"
   ]
  },
  {
   "cell_type": "code",
   "execution_count": 18,
   "metadata": {},
   "outputs": [],
   "source": [
    "best_params_MA = best_params_set_which_minimizes_MSE_MA(list(df.values), params, forecast_results_MA)"
   ]
  },
  {
   "cell_type": "code",
   "execution_count": 19,
   "metadata": {},
   "outputs": [
    {
     "data": {
      "text/plain": [
       "((0.09718538591305259, 0.47388284253713897, 0.42893177154980844),\n",
       " 624.3263844116576)"
      ]
     },
     "execution_count": 19,
     "metadata": {},
     "output_type": "execute_result"
    }
   ],
   "source": [
    "best_params_MA"
   ]
  },
  {
   "cell_type": "markdown",
   "metadata": {},
   "source": [
    "### A single exponential smoothing model"
   ]
  },
  {
   "cell_type": "code",
   "execution_count": 20,
   "metadata": {},
   "outputs": [],
   "source": [
    "# generate the parameters for the single exponential smoothing model\n",
    "alphas = np.linspace(0,1,1000001)"
   ]
  },
  {
   "cell_type": "code",
   "execution_count": 21,
   "metadata": {},
   "outputs": [],
   "source": [
    "def single_exponential_smoothing_model_forecasting(data,\n",
    "                                                   parameters=alphas,\n",
    "                                                   observation_for_model_training=39\n",
    "                                                   ):\n",
    "    forecast_results = []\n",
    "    for alpha in alphas:\n",
    "        forecast_result = []\n",
    "        for idx,value in enumerate(data):\n",
    "            if idx == 0:\n",
    "                forecast_result.append(value)\n",
    "            else:\n",
    "                forecast = alpha*(data[idx-1]-forecast_result[idx-1]) + forecast_result[idx-1]\n",
    "                forecast_result.append(forecast)\n",
    "        forecast_result = forecast_result[0:observation_for_model_training-1]\n",
    "        forecast_results.append(forecast_result)\n",
    "    return forecast_results"
   ]
  },
  {
   "cell_type": "code",
   "execution_count": 22,
   "metadata": {},
   "outputs": [],
   "source": [
    "forecast_results_ES = single_exponential_smoothing_model_forecasting(list(df.values),\n",
    "                                                                     parameters=alphas,\n",
    "                                                                     observation_for_model_training=39)"
   ]
  },
  {
   "cell_type": "code",
   "execution_count": 23,
   "metadata": {},
   "outputs": [
    {
     "data": {
      "text/plain": [
       "1000001"
      ]
     },
     "execution_count": 23,
     "metadata": {},
     "output_type": "execute_result"
    }
   ],
   "source": [
    "len(forecast_results_ES)"
   ]
  },
  {
   "cell_type": "code",
   "execution_count": 24,
   "metadata": {},
   "outputs": [],
   "source": [
    "def best_alpha_which_minimizes_MSE_ES(actual_value,\n",
    "                                      alphas,\n",
    "                                      forecast_results):\n",
    "    # initiate the MSE and best alpha\n",
    "    MSE = sum((np.array(forecast_results[0]) - np.array(list(df.values)[0:38]))**2)/len(actual_value)\n",
    "    best_alpha = 0\n",
    "    for alpha, forecast_result in zip(alphas, forecast_results):\n",
    "        new_MSE = sum((np.array(forecast_result) - np.array(list(df.values)[0:38]))**2)/len(actual_value)\n",
    "        if new_MSE < MSE:\n",
    "            MSE = new_MSE\n",
    "            best_alpha = alpha\n",
    "    return (best_alpha, MSE)"
   ]
  },
  {
   "cell_type": "code",
   "execution_count": 25,
   "metadata": {},
   "outputs": [],
   "source": [
    "best_alpha_ES = best_alpha_which_minimizes_MSE_ES(list(df.values), alphas, forecast_results_ES)"
   ]
  },
  {
   "cell_type": "code",
   "execution_count": 26,
   "metadata": {},
   "outputs": [
    {
     "data": {
      "text/plain": [
       "(0.153721, 537.0874844280161)"
      ]
     },
     "execution_count": 26,
     "metadata": {},
     "output_type": "execute_result"
    }
   ],
   "source": [
    "best_alpha_ES"
   ]
  },
  {
   "cell_type": "markdown",
   "metadata": {},
   "source": [
    "## After finding out the best parameters for each model, use the rest of the data for model validation (CFE, MAD and MAPE measures are computed to evaluate the models)"
   ]
  },
  {
   "cell_type": "code",
   "execution_count": 27,
   "metadata": {},
   "outputs": [],
   "source": [
    "# forecast the product sales using 3-week weighted moving average model with the best parameters found\n",
    "forecast_result_MA = []\n",
    "for idx,value in enumerate(list(df.values)):\n",
    "    if idx <= 2:\n",
    "        forecast_result_MA.append(value)\n",
    "    else:\n",
    "        wt_3_week_ago = list(df.values)[idx-3]\n",
    "        wt_2_week_ago = list(df.values)[idx-2]\n",
    "        wt_1_week_ago = list(df.values)[idx-1]\n",
    "        forecast = (wt_3_week_ago*best_params_MA[0][0] + \n",
    "                    wt_2_week_ago*best_params_MA[0][1] + \n",
    "                    wt_1_week_ago*best_params_MA[0][2])\n",
    "        forecast_result_MA.append(forecast)"
   ]
  },
  {
   "cell_type": "code",
   "execution_count": 28,
   "metadata": {},
   "outputs": [
    {
     "data": {
      "text/plain": [
       "[287,\n",
       " 290,\n",
       " 268,\n",
       " 280.27194486816506,\n",
       " 270.9959420331868,\n",
       " 266.3741750557754,\n",
       " 249.05166639771053,\n",
       " 264.8508834439035,\n",
       " 281.36673766664103,\n",
       " 281.36410463851547,\n",
       " 269.4628064042584,\n",
       " 263.67022728413144,\n",
       " 250.8249373730057,\n",
       " 228.67694261085464,\n",
       " 245.34940319157738,\n",
       " 279.8640249930926,\n",
       " 281.98668511948017,\n",
       " 263.15712186244605,\n",
       " 263.6027236050524,\n",
       " 263.42542253581706,\n",
       " 266.2903045503822,\n",
       " 280.7624976817587,\n",
       " 259.71864921858213,\n",
       " 243.14005215985537,\n",
       " 242.45356867668653,\n",
       " 261.7318483261753,\n",
       " 288.54557430184093,\n",
       " 310.39659270480576,\n",
       " 299.139594869917,\n",
       " 285.19228647478104,\n",
       " 288.2617203057091,\n",
       " 292.1785526765923,\n",
       " 305.25570785526236,\n",
       " 293.4796113343763,\n",
       " 273.85450845256287,\n",
       " 278.0002839586076,\n",
       " 285.91891666792833,\n",
       " 289.2418442436621,\n",
       " 267.0649620920957,\n",
       " 262.41508734608425,\n",
       " 278.4699546891354,\n",
       " 253.5604107078404,\n",
       " 258.7240163511564,\n",
       " 300.94118017176265,\n",
       " 283.3577698571918,\n",
       " 251.6425000609309,\n",
       " 248.44979466848088,\n",
       " 256.01232804563574,\n",
       " 251.3827099070708,\n",
       " 268.9407855858782,\n",
       " 264.45354949055184,\n",
       " 256.4632636941967]"
      ]
     },
     "execution_count": 28,
     "metadata": {},
     "output_type": "execute_result"
    }
   ],
   "source": [
    "forecast_result_MA"
   ]
  },
  {
   "cell_type": "code",
   "execution_count": 29,
   "metadata": {},
   "outputs": [],
   "source": [
    "# forecast the product sales using single exponential smoothing model with the best alpha found\n",
    "forecast_result_ES = []\n",
    "for idx,value in enumerate(list(df.values)):\n",
    "    if idx == 0:\n",
    "        forecast_result_ES.append(value)\n",
    "    else:\n",
    "        forecast = best_alpha_ES[0]*(list(df.values)[idx-1]-forecast_result_ES[idx-1]) + forecast_result_ES[idx-1]\n",
    "        forecast_result_ES.append(forecast)"
   ]
  },
  {
   "cell_type": "code",
   "execution_count": 30,
   "metadata": {},
   "outputs": [
    {
     "data": {
      "text/plain": [
       "[287,\n",
       " 287.0,\n",
       " 287.461163,\n",
       " 284.469573562477,\n",
       " 282.2452962448795,\n",
       " 279.13316906082036,\n",
       " 271.580369179622,\n",
       " 276.5639472489613,\n",
       " 275.24748871390375,\n",
       " 277.66898050131374,\n",
       " 272.8007931496713,\n",
       " 273.44629942591064,\n",
       " 265.69164383186023,\n",
       " 259.28276265038284,\n",
       " 261.54511109300336,\n",
       " 267.3027140706758,\n",
       " 266.9487385610174,\n",
       " 264.80452452067925,\n",
       " 266.3717832068359,\n",
       " 264.31625932049786,\n",
       " 266.5734586214916,\n",
       " 270.0208889887373,\n",
       " 262.7927909124996,\n",
       " 261.5948753006392,\n",
       " 257.19924247454964,\n",
       " 263.01001272211937,\n",
       " 267.77382455646244,\n",
       " 277.6467364718185,\n",
       " 275.5489464946341,\n",
       " 279.00014489053245,\n",
       " 279.6150066178149,\n",
       " 282.9023291855178,\n",
       " 287.8364152407908,\n",
       " 284.7871416535612,\n",
       " 282.66776845143414,\n",
       " 283.4874444173112,\n",
       " 284.02739797403774,\n",
       " 285.2529543300707,\n",
       " 277.5280199374979,\n",
       " 278.8303411846858,\n",
       " 279.0101423074347,\n",
       " 269.47788122179355,\n",
       " 274.1697718424982,\n",
       " 281.36856134509753,\n",
       " 274.7019027265678,\n",
       " 271.05842253753707,\n",
       " 267.5138587666443,\n",
       " 267.281146883177,\n",
       " 262.47257770314815,\n",
       " 269.1636565860425,\n",
       " 262.3747751319795,\n",
       " 265.08414232391647]"
      ]
     },
     "execution_count": 30,
     "metadata": {},
     "output_type": "execute_result"
    }
   ],
   "source": [
    "forecast_result_ES"
   ]
  },
  {
   "cell_type": "code",
   "execution_count": 33,
   "metadata": {},
   "outputs": [],
   "source": [
    "# calculate the CFE, MAD and MAPE measures\n",
    "def CFE(data, predicted_results):\n",
    "    return sum(np.array(data)-np.array(predicted_results))\n",
    "\n",
    "def MAD(data, predicted_results):\n",
    "    return sum(abs(np.array(data)-np.array(predicted_results)))/len(data)\n",
    "\n",
    "def MAPE(data, predicted_results):\n",
    "    return (100/len(data))*sum(abs(np.array(data)-np.array(predicted_results))/np.array(data))\n",
    "\n",
    "CFE_MA = CFE(list(df.values)[-13:], forecast_result_MA[-13:])\n",
    "SD_MA = statistics.stdev(forecast_result_MA[-13:])\n",
    "MAD_MA = MAD(list(df.values)[-13:], forecast_result_MA[-13:])\n",
    "MAPE_MA = MAPE(list(df.values)[-13:], forecast_result_MA[-13:])\n",
    "\n",
    "CFE_ES = CFE(list(df.values)[-13:], forecast_result_ES[-13:])\n",
    "SD_ES = statistics.stdev(forecast_result_ES[-13:])\n",
    "MAD_ES = MAD(list(df.values)[-13:], forecast_result_ES[-13:])\n",
    "MAPE_ES = MAPE(list(df.values)[-13:], forecast_result_ES[-13:])"
   ]
  },
  {
   "cell_type": "code",
   "execution_count": 34,
   "metadata": {},
   "outputs": [],
   "source": [
    "measure_df = pd.DataFrame(np.array([[[round(param,5) for param in best_params_MA[0]],\n",
    "                                     SD_MA, best_params_MA[1], CFE_MA, MAD_MA, MAPE_MA], \n",
    "                                    [round(best_alpha_ES[0],5), \n",
    "                                     SD_ES, best_alpha_ES[1], CFE_ES, MAD_ES, MAPE_ES]]),\n",
    "                          index=['3-week MA model', 'single ES model'],\n",
    "                          columns=['parameters', 'SD', 'MSE', 'CFE', 'MAD', 'MAPE'])"
   ]
  },
  {
   "cell_type": "code",
   "execution_count": 35,
   "metadata": {},
   "outputs": [
    {
     "data": {
      "text/html": [
       "<div>\n",
       "<style scoped>\n",
       "    .dataframe tbody tr th:only-of-type {\n",
       "        vertical-align: middle;\n",
       "    }\n",
       "\n",
       "    .dataframe tbody tr th {\n",
       "        vertical-align: top;\n",
       "    }\n",
       "\n",
       "    .dataframe thead th {\n",
       "        text-align: right;\n",
       "    }\n",
       "</style>\n",
       "<table border=\"1\" class=\"dataframe\">\n",
       "  <thead>\n",
       "    <tr style=\"text-align: right;\">\n",
       "      <th></th>\n",
       "      <th>parameters</th>\n",
       "      <th>SD</th>\n",
       "      <th>MSE</th>\n",
       "      <th>CFE</th>\n",
       "      <th>MAD</th>\n",
       "      <th>MAPE</th>\n",
       "    </tr>\n",
       "  </thead>\n",
       "  <tbody>\n",
       "    <tr>\n",
       "      <th>3-week MA model</th>\n",
       "      <td>[0.09719, 0.47388, 0.42893]</td>\n",
       "      <td>15.2381</td>\n",
       "      <td>624.326</td>\n",
       "      <td>-6.81335</td>\n",
       "      <td>33.9935</td>\n",
       "      <td>13.051</td>\n",
       "    </tr>\n",
       "    <tr>\n",
       "      <th>single ES model</th>\n",
       "      <td>0.15372</td>\n",
       "      <td>6.26166</td>\n",
       "      <td>537.087</td>\n",
       "      <td>-94.5072</td>\n",
       "      <td>28.7582</td>\n",
       "      <td>11.2805</td>\n",
       "    </tr>\n",
       "  </tbody>\n",
       "</table>\n",
       "</div>"
      ],
      "text/plain": [
       "                                  parameters       SD      MSE      CFE  \\\n",
       "3-week MA model  [0.09719, 0.47388, 0.42893]  15.2381  624.326 -6.81335   \n",
       "single ES model                      0.15372  6.26166  537.087 -94.5072   \n",
       "\n",
       "                     MAD     MAPE  \n",
       "3-week MA model  33.9935   13.051  \n",
       "single ES model  28.7582  11.2805  "
      ]
     },
     "execution_count": 35,
     "metadata": {},
     "output_type": "execute_result"
    }
   ],
   "source": [
    "measure_df"
   ]
  },
  {
   "cell_type": "markdown",
   "metadata": {},
   "source": [
    "## Overall results"
   ]
  },
  {
   "cell_type": "code",
   "execution_count": 36,
   "metadata": {},
   "outputs": [
    {
     "data": {
      "text/plain": [
       "Text(0.5, 1.0, 'the actual and predicted unit sold each week')"
      ]
     },
     "execution_count": 36,
     "metadata": {},
     "output_type": "execute_result"
    },
    {
     "data": {
      "image/png": "[encoded data removed]",
      "text/plain": [
       "<Figure size 576x432 with 1 Axes>"
      ]
     },
     "metadata": {
      "needs_background": "light"
     },
     "output_type": "display_data"
    }
   ],
   "source": [
    "# plot the actual value and predicted sales value\n",
    "fig, ax = plt.subplots(figsize=(8,6))\n",
    "ax = sns.lineplot(x=list(df.index), y=list(df.values), label='actual value')\n",
    "ax = sns.lineplot(x=list(df.index), y=forecast_result_MA, label='predicted value (MA model)')\n",
    "ax = sns.lineplot(x=list(df.index), y=forecast_result_ES, label='predicted value (ES model)')\n",
    "plt.xlabel('week')\n",
    "plt.ylabel('Unit sold')\n",
    "plt.legend()\n",
    "plt.title('the actual and predicted unit sold each week')"
   ]
  },
  {
   "cell_type": "code",
   "execution_count": 37,
   "metadata": {},
   "outputs": [
    {
     "data": {
      "text/html": [
       "<div>\n",
       "<style scoped>\n",
       "    .dataframe tbody tr th:only-of-type {\n",
       "        vertical-align: middle;\n",
       "    }\n",
       "\n",
       "    .dataframe tbody tr th {\n",
       "        vertical-align: top;\n",
       "    }\n",
       "\n",
       "    .dataframe thead th {\n",
       "        text-align: right;\n",
       "    }\n",
       "</style>\n",
       "<table border=\"1\" class=\"dataframe\">\n",
       "  <thead>\n",
       "    <tr style=\"text-align: right;\">\n",
       "      <th></th>\n",
       "      <th>parameters</th>\n",
       "      <th>SD</th>\n",
       "      <th>MSE</th>\n",
       "      <th>CFE</th>\n",
       "      <th>MAD</th>\n",
       "      <th>MAPE</th>\n",
       "    </tr>\n",
       "  </thead>\n",
       "  <tbody>\n",
       "    <tr>\n",
       "      <th>3-week MA model</th>\n",
       "      <td>[0.09719, 0.47388, 0.42893]</td>\n",
       "      <td>15.2381</td>\n",
       "      <td>624.326</td>\n",
       "      <td>-6.81335</td>\n",
       "      <td>33.9935</td>\n",
       "      <td>13.051</td>\n",
       "    </tr>\n",
       "    <tr>\n",
       "      <th>single ES model</th>\n",
       "      <td>0.15372</td>\n",
       "      <td>6.26166</td>\n",
       "      <td>537.087</td>\n",
       "      <td>-94.5072</td>\n",
       "      <td>28.7582</td>\n",
       "      <td>11.2805</td>\n",
       "    </tr>\n",
       "  </tbody>\n",
       "</table>\n",
       "</div>"
      ],
      "text/plain": [
       "                                  parameters       SD      MSE      CFE  \\\n",
       "3-week MA model  [0.09719, 0.47388, 0.42893]  15.2381  624.326 -6.81335   \n",
       "single ES model                      0.15372  6.26166  537.087 -94.5072   \n",
       "\n",
       "                     MAD     MAPE  \n",
       "3-week MA model  33.9935   13.051  \n",
       "single ES model  28.7582  11.2805  "
      ]
     },
     "execution_count": 37,
     "metadata": {},
     "output_type": "execute_result"
    }
   ],
   "source": [
    "measure_df"
   ]
  },
  {
   "cell_type": "markdown",
   "metadata": {},
   "source": [
    "&nbsp;&nbsp;Calculated different measures of each model, we can compare the two models and evaluate them. From the data frame above, we learn that in term of the CFE measure, the 3-week moving average model performs better, while in term of the MSE, MAD and MAPE measures the single exponential smoothing model performs better.\n",
    "<br>\n",
    "&nbsp;&nbsp;Overall, according to the measures, the single exponential smoothing model performs better."
   ]
  },
  {
   "cell_type": "markdown",
   "metadata": {},
   "source": [
    "## Discussion"
   ]
  },
  {
   "cell_type": "markdown",
   "metadata": {},
   "source": [
    "&nbsp;&nbsp;Combined with the plots, it is clear that the moving average model can demonstrate better the dynamics, while the exponential smoothing model can demonstrate the internal trend. We can also comfirm this from the standard deviation of the two groups of prediction values."
   ]
  }
 ],
 "metadata": {
  "kernelspec": {
   "display_name": "Python 3",
   "language": "python",
   "name": "python3"
  },
  "language_info": {
   "codemirror_mode": {
    "name": "ipython",
    "version": 3
   },
   "file_extension": ".py",
   "mimetype": "text/x-python",
   "name": "python",
   "nbconvert_exporter": "python",
   "pygments_lexer": "ipython3",
   "version": "3.7.3"
  }
 },
 "nbformat": 4,
 "nbformat_minor": 2
}
